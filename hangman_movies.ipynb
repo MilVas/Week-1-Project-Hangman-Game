{
 "cells": [
  {
   "cell_type": "markdown",
   "metadata": {},
   "source": [
    "*Week 1 Project: Hangman game*\n",
    "Guess the name of a movie in six attempts."
   ]
  },
  {
   "cell_type": "code",
   "execution_count": null,
   "metadata": {},
   "outputs": [],
   "source": [
    "import random\n",
    "import string"
   ]
  },
  {
   "cell_type": "code",
   "execution_count": null,
   "metadata": {},
   "outputs": [],
   "source": [
    "movies = [\"star wars\", \"clockwork orange\", \"the conversation\", \"vertigo\", \"the godfather\", \"goodfellas\", \"taxi driver\", \n",
    "\"lawrence of arabia\",\"dressed to kill\", \"easy rider\", \"bonnie and clyde\", \"the deer hunter\", \"blade runner\" ]"
   ]
  },
  {
   "cell_type": "markdown",
   "metadata": {},
   "source": []
  },
  {
   "cell_type": "code",
   "execution_count": null,
   "metadata": {},
   "outputs": [],
   "source": [
    "#function(start)\n",
    "\n",
    "def start(): \n",
    "    print(\"     \")\n",
    "    print(\"     \")\n",
    "    print(\"     \")\n",
    "    print(\"...........GUESS THE NAME OF A MOVIE................\")\n",
    "    print(\"                                                    \")\n",
    "    print(\"     \")\n",
    "    print(\"     \")\n",
    "    print(\"Do you want to play?\")\n",
    "    choice = input(\"Please enter 'yes' or 'no'   \")\n",
    "    if choice == \"yes\":\n",
    "        play()\n",
    "    elif choice == \"no\":\n",
    "        print(\"Too bad, bye\")\n",
    "        exit()\n",
    "    elif choice != \"yes\" or choice != \"no\":\n",
    "        print(\" You can only choose yes or no. Please try again.\")\n",
    "    return choice"
   ]
  },
  {
   "cell_type": "code",
   "execution_count": null,
   "metadata": {},
   "outputs": [],
   "source": [
    "#function(gameplay)\n",
    "def play():\n",
    "    word = random.choice(movies)\n",
    "    spaces = ['_'] * len(word) #- word.count(\" \"))\n",
    "    attempt = 6\n",
    "    for n, i in enumerate(word):\n",
    "        if i == \" \" :\n",
    "            spaces[n] = \" \"\n",
    "    while '_' in spaces and attempt > 0:\n",
    "        print(' '.join(spaces))\n",
    "        print(\"    \")\n",
    "        character = input('Enter character: ')\n",
    "\n",
    "        if len(character) > 1:\n",
    "            print(\"   \")\n",
    "            print('Only enter one character.')\n",
    "            continue\n",
    "\n",
    "        if character not in list(string.ascii_lowercase):\n",
    "            print(\"You can only choose a-z letters.\")\n",
    "            print(\"   \")\n",
    "            continue\n",
    "\n",
    "        if character not in word :\n",
    "            attempt -= 1\n",
    "            print('Wrong! You have', attempt, 'attempts left.')\n",
    "            print(\" \")\n",
    "        \n",
    "        for i, j in enumerate(word):\n",
    "            if j == character:\n",
    "                    spaces[i] = character\n",
    "\n",
    "        if attempt == 0:\n",
    "            print('You lose! The right movie was', word)\n",
    "            print(\" \")\n",
    "            attempt = 6\n",
    "            start()\n",
    "    \n",
    "    if \"_\" not in spaces:\n",
    "            print(\"You won! The movie is\", word, \".\")\n",
    "            start() "
   ]
  },
  {
   "cell_type": "code",
   "execution_count": null,
   "metadata": {},
   "outputs": [],
   "source": [
    "#initiating game\n",
    "start()"
   ]
  },
  {
   "cell_type": "code",
   "execution_count": null,
   "metadata": {},
   "outputs": [],
   "source": []
  }
 ],
 "metadata": {
  "kernelspec": {
   "display_name": "Python 3",
   "language": "python",
   "name": "python3"
  },
  "language_info": {
   "codemirror_mode": {
    "name": "ipython",
    "version": 3
   },
   "file_extension": ".py",
   "mimetype": "text/x-python",
   "name": "python",
   "nbconvert_exporter": "python",
   "pygments_lexer": "ipython3",
   "version": "3.8.3"
  }
 },
 "nbformat": 4,
 "nbformat_minor": 4
}
